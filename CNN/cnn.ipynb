{
 "cells": [
  {
   "cell_type": "code",
   "execution_count": 1,
   "metadata": {},
   "outputs": [
    {
     "name": "stdout",
     "output_type": "stream",
     "text": [
      "WARNING:tensorflow:From c:\\Users\\JEET\\AppData\\Local\\Programs\\Python\\Python311\\Lib\\site-packages\\keras\\src\\losses.py:2976: The name tf.losses.sparse_softmax_cross_entropy is deprecated. Please use tf.compat.v1.losses.sparse_softmax_cross_entropy instead.\n",
      "\n"
     ]
    }
   ],
   "source": [
    "import glob\n",
    "import os\n",
    "import matplotlib.pyplot as plt\n",
    "import seaborn as sns\n",
    "import numpy as np\n",
    "import pandas as pd\n",
    "import sklearn.metrics as metrics\n",
    "from sklearn.model_selection import cross_val_score\n",
    "from sklearn.model_selection import train_test_split\n",
    "from keras.preprocessing.image import ImageDataGenerator\n",
    "from keras.preprocessing import image\n",
    "from keras.preprocessing.image import img_to_array,load_img"
   ]
  },
  {
   "cell_type": "code",
   "execution_count": 3,
   "metadata": {},
   "outputs": [],
   "source": [
    "dir1=\"train_leaves\\TR03\\Myo\"\n",
    "img_list=glob.glob(dir1+\"/*\")\n",
    "list_image_tr03=[]\n",
    "\n",
    "for img in img_list:\n",
    "    temp_img=load_img(img,target_size=(200,200))\n",
    "    temp_img_array = img_to_array(temp_img) /255\n",
    "    list_image_tr03.append(temp_img_array)\n",
    "list_image_tr03=np.array(list_image_tr03)\n",
    "list_image2=list_image_tr03.reshape(-1,40000)\n",
    "df_tr03=pd.DataFrame(list_image2)\n",
    "df_tr03['label'] = np.full(df_tr03.shape[0],2)"
   ]
  },
  {
   "cell_type": "code",
   "execution_count": 4,
   "metadata": {},
   "outputs": [],
   "source": [
    "dir2=\"train_leaves\\TR36\\Myo\"\n",
    "img_list2=glob.glob(dir2+\"/*\")\n",
    "list_image_tr36=[]\n",
    "\n",
    "for img2 in img_list2:\n",
    "    temp_img1=load_img(img2,target_size=(200,200))\n",
    "    temp_img2_array = img_to_array(temp_img1) /255\n",
    "    list_image_tr36.append(temp_img2_array)\n",
    "list_image_tr36=np.array(list_image_tr36)\n",
    "list_image2_tr36=list_image_tr36.reshape(-1,40000)\n",
    "df_tr36=pd.DataFrame(list_image2_tr36)\n",
    "df_tr36['label'] = np.full(df_tr36.shape[0],1)"
   ]
  },
  {
   "cell_type": "code",
   "execution_count": 4,
   "metadata": {},
   "outputs": [],
   "source": [
    "dir3=\"TRAIN/MONOCYTE\"\n",
    "img_list3=glob.glob(dir3+\"/*\")\n",
    "list_image_MONOCYTE=[]\n",
    "\n",
    "for img in img_list3:\n",
    "    temp_img3=load_img(img,target_size=(200,200))\n",
    "    temp_img3_array = img_to_array(temp_img3) /255\n",
    "    list_image_MONOCYTE.append(temp_img3_array)\n",
    "list_image_MONOCYTE=np.array(list_image_MONOCYTE)\n",
    "list_image2_MONOCYTE=list_image_MONOCYTE.reshape(-1,40000)\n",
    "df_MONOCYTE=pd.DataFrame(list_image2_MONOCYTE)\n",
    "df_MONOCYTE['label'] = np.full(df_MONOCYTE.shape[0],0)"
   ]
  },
  {
   "cell_type": "code",
   "execution_count": 5,
   "metadata": {},
   "outputs": [],
   "source": [
    "Df = pd.concat([df_tr03, df_tr36], ignore_index=True)"
   ]
  },
  {
   "cell_type": "code",
   "execution_count": 6,
   "metadata": {},
   "outputs": [],
   "source": [
    "from tensorflow.keras.utils import to_categorical\n",
    "x_train, x_test, y_train, y_test = train_test_split(Df.iloc[:,0:-1], Df.iloc[:,-1], test_size=0.20, random_state=None)\n",
    "\n",
    "X_train = x_train.values.reshape(-1,200,200,1)\n",
    "X_test = x_test.values.reshape(-1,200,200,1)\n",
    "Y_train = to_categorical(y_train)\n",
    "Y_test = to_categorical(y_test)"
   ]
  },
  {
   "cell_type": "code",
   "execution_count": 7,
   "metadata": {},
   "outputs": [],
   "source": [
    "import os\n",
    "import numpy as np\n",
    "import pandas as pd\n",
    "import seaborn as sns\n",
    "import matplotlib.pyplot as plt\n",
    "import matplotlib.image as mpimg\n",
    "import seaborn as sns\n",
    "from PIL import Image\n",
    "from tensorflow.keras.preprocessing import image\n",
    "from tensorflow.keras.preprocessing.image import load_img, img_to_array\n",
    "from tensorflow.keras.applications.vgg16 import preprocess_input\n",
    "from tensorflow.keras.utils import to_categorical\n",
    "from tensorflow.keras.callbacks import ModelCheckpoint, EarlyStopping\n",
    "from tensorflow.keras.models import Sequential\n",
    "from tensorflow.keras.layers import Dense, Dropout, BatchNormalization, Conv2D, MaxPool2D, Flatten\n",
    "from sklearn.metrics import classification_report, confusion_matrix, accuracy_score\n",
    "from tensorflow.keras.layers import MaxPooling2D, GlobalAveragePooling2D\n",
    "from tensorflow.keras import backend as K\n",
    "from tensorflow.keras.layers import Activation"
   ]
  },
  {
   "cell_type": "code",
   "execution_count": 8,
   "metadata": {},
   "outputs": [
    {
     "name": "stdout",
     "output_type": "stream",
     "text": [
      "WARNING:tensorflow:From c:\\Users\\JEET\\AppData\\Local\\Programs\\Python\\Python311\\Lib\\site-packages\\keras\\src\\backend.py:873: The name tf.get_default_graph is deprecated. Please use tf.compat.v1.get_default_graph instead.\n",
      "\n",
      "WARNING:tensorflow:From c:\\Users\\JEET\\AppData\\Local\\Programs\\Python\\Python311\\Lib\\site-packages\\keras\\src\\layers\\pooling\\max_pooling2d.py:161: The name tf.nn.max_pool is deprecated. Please use tf.nn.max_pool2d instead.\n",
      "\n",
      "WARNING:tensorflow:From c:\\Users\\JEET\\AppData\\Local\\Programs\\Python\\Python311\\Lib\\site-packages\\keras\\src\\optimizers\\__init__.py:309: The name tf.train.Optimizer is deprecated. Please use tf.compat.v1.train.Optimizer instead.\n",
      "\n"
     ]
    }
   ],
   "source": [
    "model=Sequential()\n",
    "\n",
    "model.add(Conv2D(64, kernel_size=(3,3), padding='same', activation='relu', input_shape=(200,200,1)))\n",
    "model.add(MaxPooling2D(pool_size=(2,2)))\n",
    "model.add(Conv2D(64, kernel_size=(3,3), padding='same', activation='relu'))\n",
    "model.add(MaxPooling2D(pool_size=(2,2)))\n",
    "model.add(Dropout(0.25))\n",
    "\n",
    "model.add(Conv2D(64, kernel_size=(3,3), padding='same', activation='relu'))\n",
    "model.add(MaxPooling2D(pool_size=(2,2)))\n",
    "model.add(Dropout(0.25))\n",
    "\n",
    "model.add(Conv2D(64, kernel_size=(3,3), padding='same', activation='relu'))\n",
    "model.add(MaxPooling2D(pool_size=(2,2)))\n",
    "model.add(Dropout(0.25))\n",
    "\n",
    "\n",
    "model.add(Flatten())\n",
    "model.add(Dense(128, activation='relu'))\n",
    "model.add(Dropout(0.5))\n",
    "model.add(Dense(3, activation='softmax'))\n",
    "\n",
    "model.compile(optimizer='adam', loss='categorical_crossentropy', metrics=['accuracy'])\n"
   ]
  },
  {
   "cell_type": "code",
   "execution_count": 9,
   "metadata": {},
   "outputs": [
    {
     "name": "stdout",
     "output_type": "stream",
     "text": [
      "Model: \"sequential\"\n",
      "_________________________________________________________________\n",
      " Layer (type)                Output Shape              Param #   \n",
      "=================================================================\n",
      " conv2d (Conv2D)             (None, 200, 200, 64)      640       \n",
      "                                                                 \n",
      " max_pooling2d (MaxPooling2  (None, 100, 100, 64)      0         \n",
      " D)                                                              \n",
      "                                                                 \n",
      " conv2d_1 (Conv2D)           (None, 100, 100, 64)      36928     \n",
      "                                                                 \n",
      " max_pooling2d_1 (MaxPoolin  (None, 50, 50, 64)        0         \n",
      " g2D)                                                            \n",
      "                                                                 \n",
      " dropout (Dropout)           (None, 50, 50, 64)        0         \n",
      "                                                                 \n",
      " conv2d_2 (Conv2D)           (None, 50, 50, 64)        36928     \n",
      "                                                                 \n",
      " max_pooling2d_2 (MaxPoolin  (None, 25, 25, 64)        0         \n",
      " g2D)                                                            \n",
      "                                                                 \n",
      " dropout_1 (Dropout)         (None, 25, 25, 64)        0         \n",
      "                                                                 \n",
      " conv2d_3 (Conv2D)           (None, 25, 25, 64)        36928     \n",
      "                                                                 \n",
      " max_pooling2d_3 (MaxPoolin  (None, 12, 12, 64)        0         \n",
      " g2D)                                                            \n",
      "                                                                 \n",
      " dropout_2 (Dropout)         (None, 12, 12, 64)        0         \n",
      "                                                                 \n"
     ]
    },
    {
     "name": "stdout",
     "output_type": "stream",
     "text": [
      " flatten (Flatten)           (None, 9216)              0         \n",
      "                                                                 \n",
      " dense (Dense)               (None, 128)               1179776   \n",
      "                                                                 \n",
      " dropout_3 (Dropout)         (None, 128)               0         \n",
      "                                                                 \n",
      " dense_1 (Dense)             (None, 3)                 387       \n",
      "                                                                 \n",
      "=================================================================\n",
      "Total params: 1291587 (4.93 MB)\n",
      "Trainable params: 1291587 (4.93 MB)\n",
      "Non-trainable params: 0 (0.00 Byte)\n",
      "_________________________________________________________________\n"
     ]
    }
   ],
   "source": [
    "model.summary()"
   ]
  },
  {
   "cell_type": "code",
   "execution_count": 10,
   "metadata": {},
   "outputs": [],
   "source": [
    "model_chkpt = ModelCheckpoint('best_mod.h5', monitor='accuracy')\n",
    "early_stopping = EarlyStopping(monitor='loss', restore_best_weights=False, patience=10)"
   ]
  },
  {
   "cell_type": "code",
   "execution_count": 11,
   "metadata": {},
   "outputs": [
    {
     "name": "stdout",
     "output_type": "stream",
     "text": [
      "Epoch 1/27\n",
      "WARNING:tensorflow:From c:\\Users\\JEET\\AppData\\Local\\Programs\\Python\\Python311\\Lib\\site-packages\\keras\\src\\utils\\tf_utils.py:492: The name tf.ragged.RaggedTensorValue is deprecated. Please use tf.compat.v1.ragged.RaggedTensorValue instead.\n",
      "\n",
      "WARNING:tensorflow:From c:\\Users\\JEET\\AppData\\Local\\Programs\\Python\\Python311\\Lib\\site-packages\\keras\\src\\engine\\base_layer_utils.py:384: The name tf.executing_eagerly_outside_functions is deprecated. Please use tf.compat.v1.executing_eagerly_outside_functions instead.\n",
      "\n",
      "5/5 [==============================] - 7s 902ms/step - loss: 1.0729 - accuracy: 0.4702 - val_loss: 0.9618 - val_accuracy: 0.3947\n",
      "Epoch 2/27\n"
     ]
    },
    {
     "name": "stderr",
     "output_type": "stream",
     "text": [
      "c:\\Users\\JEET\\AppData\\Local\\Programs\\Python\\Python311\\Lib\\site-packages\\keras\\src\\engine\\training.py:3103: UserWarning: You are saving your model as an HDF5 file via `model.save()`. This file format is considered legacy. We recommend using instead the native Keras format, e.g. `model.save('my_model.keras')`.\n",
      "  saving_api.save_model(\n"
     ]
    },
    {
     "name": "stdout",
     "output_type": "stream",
     "text": [
      "5/5 [==============================] - 3s 618ms/step - loss: 0.8014 - accuracy: 0.4106 - val_loss: 0.7559 - val_accuracy: 0.3947\n",
      "Epoch 3/27\n",
      "5/5 [==============================] - 3s 616ms/step - loss: 0.7695 - accuracy: 0.4371 - val_loss: 0.7852 - val_accuracy: 0.6053\n",
      "Epoch 4/27\n",
      "5/5 [==============================] - 3s 611ms/step - loss: 0.7201 - accuracy: 0.5762 - val_loss: 0.7758 - val_accuracy: 0.6053\n",
      "Epoch 5/27\n",
      "5/5 [==============================] - 3s 678ms/step - loss: 0.7132 - accuracy: 0.5232 - val_loss: 0.7393 - val_accuracy: 0.5789\n",
      "Epoch 6/27\n",
      "5/5 [==============================] - 4s 798ms/step - loss: 0.7174 - accuracy: 0.5099 - val_loss: 0.7265 - val_accuracy: 0.6053\n",
      "Epoch 7/27\n",
      "5/5 [==============================] - 3s 699ms/step - loss: 0.7310 - accuracy: 0.4570 - val_loss: 0.7569 - val_accuracy: 0.6053\n",
      "Epoch 8/27\n",
      "5/5 [==============================] - 3s 672ms/step - loss: 0.7150 - accuracy: 0.4967 - val_loss: 0.7430 - val_accuracy: 0.6053\n",
      "Epoch 9/27\n",
      "5/5 [==============================] - 4s 734ms/step - loss: 0.7236 - accuracy: 0.4768 - val_loss: 0.7095 - val_accuracy: 0.6053\n",
      "Epoch 10/27\n",
      "5/5 [==============================] - 4s 830ms/step - loss: 0.7003 - accuracy: 0.5430 - val_loss: 0.7188 - val_accuracy: 0.6053\n",
      "Epoch 11/27\n",
      "5/5 [==============================] - 3s 662ms/step - loss: 0.7141 - accuracy: 0.4967 - val_loss: 0.7220 - val_accuracy: 0.6053\n",
      "Epoch 12/27\n",
      "5/5 [==============================] - 3s 650ms/step - loss: 0.7016 - accuracy: 0.4967 - val_loss: 0.7179 - val_accuracy: 0.6053\n",
      "Epoch 13/27\n",
      "5/5 [==============================] - 3s 625ms/step - loss: 0.6996 - accuracy: 0.5497 - val_loss: 0.6996 - val_accuracy: 0.6053\n",
      "Epoch 14/27\n",
      "5/5 [==============================] - 3s 689ms/step - loss: 0.7089 - accuracy: 0.5033 - val_loss: 0.6989 - val_accuracy: 0.6053\n",
      "Epoch 15/27\n",
      "5/5 [==============================] - 3s 660ms/step - loss: 0.7033 - accuracy: 0.5298 - val_loss: 0.7166 - val_accuracy: 0.6053\n",
      "Epoch 16/27\n",
      "5/5 [==============================] - 3s 641ms/step - loss: 0.7041 - accuracy: 0.5232 - val_loss: 0.7049 - val_accuracy: 0.6053\n",
      "Epoch 17/27\n",
      "5/5 [==============================] - 3s 727ms/step - loss: 0.6954 - accuracy: 0.5166 - val_loss: 0.7071 - val_accuracy: 0.6053\n",
      "Epoch 18/27\n",
      "5/5 [==============================] - 3s 649ms/step - loss: 0.6942 - accuracy: 0.5364 - val_loss: 0.6880 - val_accuracy: 0.6053\n",
      "Epoch 19/27\n",
      "5/5 [==============================] - 3s 715ms/step - loss: 0.6770 - accuracy: 0.5629 - val_loss: 0.6873 - val_accuracy: 0.6053\n",
      "Epoch 20/27\n",
      "5/5 [==============================] - 4s 704ms/step - loss: 0.6928 - accuracy: 0.5497 - val_loss: 0.7042 - val_accuracy: 0.6053\n",
      "Epoch 21/27\n",
      "5/5 [==============================] - 4s 721ms/step - loss: 0.6916 - accuracy: 0.5232 - val_loss: 0.7114 - val_accuracy: 0.5263\n",
      "Epoch 22/27\n",
      "5/5 [==============================] - 4s 785ms/step - loss: 0.6695 - accuracy: 0.5563 - val_loss: 0.7035 - val_accuracy: 0.5789\n",
      "Epoch 23/27\n",
      "5/5 [==============================] - 4s 774ms/step - loss: 0.6494 - accuracy: 0.5695 - val_loss: 0.6908 - val_accuracy: 0.5526\n",
      "Epoch 24/27\n",
      "5/5 [==============================] - 4s 781ms/step - loss: 0.6581 - accuracy: 0.5364 - val_loss: 0.7160 - val_accuracy: 0.5000\n",
      "Epoch 25/27\n",
      "5/5 [==============================] - 4s 765ms/step - loss: 0.6244 - accuracy: 0.6225 - val_loss: 0.7424 - val_accuracy: 0.5263\n",
      "Epoch 26/27\n",
      "5/5 [==============================] - 4s 721ms/step - loss: 0.6801 - accuracy: 0.6490 - val_loss: 0.7199 - val_accuracy: 0.5526\n",
      "Epoch 27/27\n",
      "5/5 [==============================] - 4s 730ms/step - loss: 0.6531 - accuracy: 0.5695 - val_loss: 0.7040 - val_accuracy: 0.5263\n"
     ]
    }
   ],
   "source": [
    "history = model.fit(X_train, Y_train, \n",
    "          validation_split=0.20,\n",
    "          epochs=27, batch_size=32, shuffle=True, \n",
    "          callbacks=[model_chkpt ,early_stopping]\n",
    "         )"
   ]
  },
  {
   "cell_type": "code",
   "execution_count": 12,
   "metadata": {},
   "outputs": [
    {
     "name": "stdout",
     "output_type": "stream",
     "text": [
      "2/2 [==============================] - 1s 128ms/step\n",
      "[[3.08896182e-03 6.45342529e-01 3.51568520e-01]\n",
      " [1.48782395e-02 5.41672766e-01 4.43448931e-01]\n",
      " [9.80536174e-03 4.90276963e-01 4.99917626e-01]\n",
      " [1.04257104e-03 6.76620007e-01 3.22337419e-01]\n",
      " [4.47920896e-02 4.59647477e-01 4.95560497e-01]\n",
      " [1.64663177e-02 4.65228230e-01 5.18305480e-01]\n",
      " [2.29684506e-02 4.65346605e-01 5.11684954e-01]\n",
      " [1.36624584e-02 4.98878211e-01 4.87459391e-01]\n",
      " [8.84570368e-03 5.88980675e-01 4.02173668e-01]\n",
      " [1.44734340e-05 8.58655751e-01 1.41329855e-01]\n",
      " [3.55390981e-02 4.61461097e-01 5.02999783e-01]\n",
      " [6.54759677e-03 6.20604873e-01 3.72847557e-01]\n",
      " [4.47879098e-02 4.63383943e-01 4.91828203e-01]\n",
      " [3.08289770e-02 4.91615713e-01 4.77555305e-01]\n",
      " [2.23913754e-04 7.53382266e-01 2.46393785e-01]\n",
      " [2.04865858e-02 4.72152680e-01 5.07360816e-01]\n",
      " [4.78084587e-07 9.30260777e-01 6.97387904e-02]\n",
      " [1.06833363e-02 4.59141642e-01 5.30175090e-01]\n",
      " [2.02013142e-02 4.64248747e-01 5.15550017e-01]\n",
      " [1.85960140e-02 4.81515348e-01 4.99888688e-01]\n",
      " [2.66941590e-03 6.63430512e-01 3.33900005e-01]\n",
      " [5.92327816e-03 5.54223537e-01 4.39853221e-01]\n",
      " [2.15005204e-02 4.74444121e-01 5.04055321e-01]\n",
      " [7.06040999e-03 5.45501471e-01 4.47438091e-01]\n",
      " [3.41819739e-03 6.47001028e-01 3.49580824e-01]\n",
      " [1.95576996e-02 5.25337756e-01 4.55104500e-01]\n",
      " [9.79574118e-03 4.59337234e-01 5.30866981e-01]\n",
      " [1.66902551e-04 7.77275026e-01 2.22558022e-01]\n",
      " [4.24179132e-04 7.55139470e-01 2.44436353e-01]\n",
      " [1.46921084e-04 7.97462583e-01 2.02390492e-01]\n",
      " [2.27021519e-02 4.59101647e-01 5.18196225e-01]\n",
      " [4.11467656e-04 7.52685308e-01 2.46903196e-01]\n",
      " [4.78944770e-04 7.62241602e-01 2.37279475e-01]\n",
      " [2.88493782e-02 4.64316130e-01 5.06834507e-01]\n",
      " [4.40126634e-04 7.54809976e-01 2.44749859e-01]\n",
      " [8.75034556e-03 6.10932946e-01 3.80316675e-01]\n",
      " [4.44928068e-04 7.52325058e-01 2.47230008e-01]\n",
      " [2.24589948e-02 4.61248755e-01 5.16292274e-01]\n",
      " [6.30150130e-03 5.65620601e-01 4.28077906e-01]\n",
      " [2.52845939e-02 4.77820605e-01 4.96894807e-01]\n",
      " [1.72978975e-02 4.88200456e-01 4.94501680e-01]\n",
      " [2.33966974e-03 6.57359838e-01 3.40300500e-01]\n",
      " [4.09279652e-02 4.68234628e-01 4.90837306e-01]\n",
      " [7.47461477e-03 5.92472196e-01 4.00053173e-01]\n",
      " [2.56761406e-02 4.82332081e-01 4.91991758e-01]\n",
      " [1.93635039e-02 4.69453067e-01 5.11183500e-01]\n",
      " [1.36495350e-04 7.91667759e-01 2.08195776e-01]\n",
      " [1.61070831e-03 6.72163367e-01 3.26225907e-01]]\n",
      "2/2 [==============================] - 0s 122ms/step - loss: 0.6875 - accuracy: 0.5000\n",
      "Accuracy :50.00%\n",
      "Loss :0.69%\n"
     ]
    }
   ],
   "source": [
    "model.save(\"store_model.h5\")\n",
    "predict=model.predict(X_test)\n",
    "print(predict)\n",
    "\n",
    "(eval_loss,eval_accuracy)=model.evaluate(X_test,Y_test,batch_size=32,verbose=1)\n",
    "print(\"Accuracy :{:.2f}%\".format(eval_accuracy*100))\n",
    "print(\"Loss :{:.2f}%\".format(eval_loss))"
   ]
  }
 ],
 "metadata": {
  "kernelspec": {
   "display_name": "Python 3",
   "language": "python",
   "name": "python3"
  },
  "language_info": {
   "codemirror_mode": {
    "name": "ipython",
    "version": 3
   },
   "file_extension": ".py",
   "mimetype": "text/x-python",
   "name": "python",
   "nbconvert_exporter": "python",
   "pygments_lexer": "ipython3",
   "version": "3.11.7"
  }
 },
 "nbformat": 4,
 "nbformat_minor": 2
}
