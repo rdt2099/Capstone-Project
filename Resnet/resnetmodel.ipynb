{
 "cells": [
  {
   "cell_type": "code",
   "execution_count": 1,
   "metadata": {},
   "outputs": [
    {
     "name": "stdout",
     "output_type": "stream",
     "text": [
      "WARNING:tensorflow:From c:\\Users\\JEET\\AppData\\Local\\Programs\\Python\\Python311\\Lib\\site-packages\\keras\\src\\losses.py:2976: The name tf.losses.sparse_softmax_cross_entropy is deprecated. Please use tf.compat.v1.losses.sparse_softmax_cross_entropy instead.\n",
      "\n"
     ]
    }
   ],
   "source": [
    "import glob\n",
    "import os\n",
    "import matplotlib.pyplot as plt\n",
    "import seaborn as sns\n",
    "import numpy as np\n",
    "import pandas as pd\n",
    "import sklearn.metrics as metrics\n",
    "from sklearn.model_selection import cross_val_score\n",
    "from sklearn.model_selection import train_test_split\n",
    "from keras.preprocessing.image import ImageDataGenerator\n",
    "from keras.preprocessing import image\n",
    "from keras.preprocessing.image import img_to_array,load_img"
   ]
  },
  {
   "cell_type": "code",
   "execution_count": 2,
   "metadata": {},
   "outputs": [],
   "source": [
    "dir1=\"train_leaves\\TR03\\Myo\"\n",
    "img_list=glob.glob(dir1+\"/*\")\n",
    "list_image_tr03=[]\n",
    "\n",
    "for img in img_list:\n",
    "    temp_img=load_img(img,target_size=(200,200))\n",
    "    temp_img_array = img_to_array(temp_img) /255\n",
    "    list_image_tr03.append(temp_img_array)\n",
    "list_image_tr03=np.array(list_image_tr03)\n",
    "list_image2=list_image_tr03.reshape(-1,40000)\n",
    "df_tr03=pd.DataFrame(list_image2)\n",
    "df_tr03['label'] = np.full(df_tr03.shape[0],2)"
   ]
  },
  {
   "cell_type": "code",
   "execution_count": 3,
   "metadata": {},
   "outputs": [],
   "source": [
    "dir2=\"train_leaves\\TR36\\Myo\"\n",
    "img_list2=glob.glob(dir2+\"/*\")\n",
    "list_image_tr36=[]\n",
    "\n",
    "for img2 in img_list2:\n",
    "    temp_img1=load_img(img2,target_size=(200,200))\n",
    "    temp_img2_array = img_to_array(temp_img1) /255\n",
    "    list_image_tr36.append(temp_img2_array)\n",
    "list_image_tr36=np.array(list_image_tr36)\n",
    "list_image2_tr36=list_image_tr36.reshape(-1,40000)\n",
    "df_tr36=pd.DataFrame(list_image2_tr36)\n",
    "df_tr36['label'] = np.full(df_tr36.shape[0],1)"
   ]
  },
  {
   "cell_type": "code",
   "execution_count": 4,
   "metadata": {},
   "outputs": [],
   "source": [
    "Df = pd.concat([df_tr03, df_tr36], ignore_index=True)"
   ]
  },
  {
   "cell_type": "code",
   "execution_count": 5,
   "metadata": {},
   "outputs": [],
   "source": [
    "from tensorflow.keras.utils import to_categorical\n",
    "x_train, x_test, y_train, y_test = train_test_split(Df.iloc[:,0:-1], Df.iloc[:,-1], test_size=0.20, random_state=None)\n",
    "\n",
    "X_train = x_train.values.reshape(-1,200,200,1)\n",
    "X_test = x_test.values.reshape(-1,200,200,1)\n",
    "Y_train = to_categorical(y_train)\n",
    "Y_test = to_categorical(y_test)"
   ]
  },
  {
   "cell_type": "code",
   "execution_count": 6,
   "metadata": {},
   "outputs": [],
   "source": [
    "import os\n",
    "import numpy as np\n",
    "import pandas as pd\n",
    "import seaborn as sns\n",
    "import matplotlib.pyplot as plt\n",
    "import matplotlib.image as mpimg\n",
    "import seaborn as sns\n",
    "from PIL import Image\n",
    "from tensorflow.keras.preprocessing import image\n",
    "from tensorflow.keras.preprocessing.image import load_img, img_to_array\n",
    "from tensorflow.keras.applications.vgg16 import preprocess_input\n",
    "from tensorflow.keras.utils import to_categorical\n",
    "from tensorflow.keras.callbacks import ModelCheckpoint, EarlyStopping\n",
    "from tensorflow.keras.models import Sequential\n",
    "from tensorflow.keras.layers import Dense, Dropout, BatchNormalization, Conv2D, MaxPool2D, Flatten\n",
    "from sklearn.metrics import classification_report, confusion_matrix, accuracy_score\n",
    "from tensorflow.keras.layers import MaxPooling2D, GlobalAveragePooling2D\n",
    "from tensorflow.keras import backend as K\n",
    "from tensorflow.keras.layers import Activation"
   ]
  },
  {
   "cell_type": "code",
   "execution_count": 7,
   "metadata": {},
   "outputs": [
    {
     "name": "stdout",
     "output_type": "stream",
     "text": [
      "WARNING:tensorflow:From c:\\Users\\JEET\\AppData\\Local\\Programs\\Python\\Python311\\Lib\\site-packages\\keras\\src\\backend.py:1398: The name tf.executing_eagerly_outside_functions is deprecated. Please use tf.compat.v1.executing_eagerly_outside_functions instead.\n",
      "\n",
      "WARNING:tensorflow:From c:\\Users\\JEET\\AppData\\Local\\Programs\\Python\\Python311\\Lib\\site-packages\\keras\\src\\layers\\normalization\\batch_normalization.py:979: The name tf.nn.fused_batch_norm is deprecated. Please use tf.compat.v1.nn.fused_batch_norm instead.\n",
      "\n",
      "WARNING:tensorflow:From c:\\Users\\JEET\\AppData\\Local\\Programs\\Python\\Python311\\Lib\\site-packages\\keras\\src\\optimizers\\__init__.py:309: The name tf.train.Optimizer is deprecated. Please use tf.compat.v1.train.Optimizer instead.\n",
      "\n",
      "Epoch 1/10\n",
      "WARNING:tensorflow:From c:\\Users\\JEET\\AppData\\Local\\Programs\\Python\\Python311\\Lib\\site-packages\\keras\\src\\utils\\tf_utils.py:492: The name tf.ragged.RaggedTensorValue is deprecated. Please use tf.compat.v1.ragged.RaggedTensorValue instead.\n",
      "\n",
      "WARNING:tensorflow:From c:\\Users\\JEET\\AppData\\Local\\Programs\\Python\\Python311\\Lib\\site-packages\\keras\\src\\engine\\base_layer_utils.py:384: The name tf.executing_eagerly_outside_functions is deprecated. Please use tf.compat.v1.executing_eagerly_outside_functions instead.\n",
      "\n",
      "6/6 [==============================] - 27s 2s/step - loss: 3.3652 - accuracy: 0.4444 - val_loss: 1.4465 - val_accuracy: 0.5625\n",
      "Epoch 2/10\n",
      "6/6 [==============================] - 9s 1s/step - loss: 0.9922 - accuracy: 0.6032 - val_loss: 9.5246 - val_accuracy: 0.5833\n",
      "Epoch 3/10\n",
      "6/6 [==============================] - 11s 2s/step - loss: 0.6052 - accuracy: 0.6772 - val_loss: 5.7558 - val_accuracy: 0.5833\n",
      "Epoch 4/10\n",
      "6/6 [==============================] - 16s 3s/step - loss: 0.5522 - accuracy: 0.7090 - val_loss: 4.9673 - val_accuracy: 0.5625\n",
      "Epoch 5/10\n",
      "6/6 [==============================] - 14s 2s/step - loss: 0.4238 - accuracy: 0.8095 - val_loss: 4.5652 - val_accuracy: 0.4375\n",
      "Epoch 6/10\n",
      "6/6 [==============================] - 10s 2s/step - loss: 0.4326 - accuracy: 0.8201 - val_loss: 4.7929 - val_accuracy: 0.5625\n",
      "Epoch 7/10\n",
      "6/6 [==============================] - 10s 2s/step - loss: 0.3466 - accuracy: 0.8519 - val_loss: 5.1891 - val_accuracy: 0.5625\n",
      "Epoch 8/10\n",
      "6/6 [==============================] - 10s 2s/step - loss: 0.3684 - accuracy: 0.8624 - val_loss: 2.7006 - val_accuracy: 0.5625\n",
      "Epoch 9/10\n",
      "6/6 [==============================] - 10s 2s/step - loss: 0.3583 - accuracy: 0.8466 - val_loss: 2.5678 - val_accuracy: 0.5625\n",
      "Epoch 10/10\n",
      "6/6 [==============================] - 11s 2s/step - loss: 0.4230 - accuracy: 0.8201 - val_loss: 1.3327 - val_accuracy: 0.5625\n"
     ]
    }
   ],
   "source": [
    "import tensorflow as tf\n",
    "from tensorflow.keras.models import Model\n",
    "from tensorflow.keras.layers import Input, Conv2D, MaxPooling2D, BatchNormalization, Flatten, Dense, Add\n",
    "\n",
    "def residual_block(x, filters, strides=1, downsample=False):\n",
    "    y = Conv2D(filters=filters, kernel_size=3, strides=strides, padding='same')(x)\n",
    "    y = BatchNormalization()(y)\n",
    "    y = tf.nn.relu(y)\n",
    "    y = Conv2D(filters=filters, kernel_size=3, padding='same')(y)\n",
    "    y = BatchNormalization()(y)\n",
    "\n",
    "    if downsample:\n",
    "        x = Conv2D(filters=filters, kernel_size=1, strides=strides, padding='same')(x)\n",
    "        x = BatchNormalization()(x)\n",
    "\n",
    "    return tf.nn.relu(Add()([x, y]))\n",
    "\n",
    "def build_resnet(input_shape, num_classes):\n",
    "    input_layer = Input(shape=input_shape)\n",
    "\n",
    "    # Initial Convolutional Layer\n",
    "    x = Conv2D(filters=64, kernel_size=7, strides=2, padding='same')(input_layer)\n",
    "    x = BatchNormalization()(x)\n",
    "    x = tf.nn.relu(x)\n",
    "    x = MaxPooling2D(pool_size=3, strides=2, padding='same')(x)\n",
    "\n",
    "    # Residual Blocks\n",
    "    x = residual_block(x, filters=64)\n",
    "    x = residual_block(x, filters=64)\n",
    "    x = residual_block(x, filters=128, strides=2, downsample=True)\n",
    "    x = residual_block(x, filters=128)\n",
    "    x = residual_block(x, filters=256, strides=2, downsample=True)\n",
    "    x = residual_block(x, filters=256)\n",
    "    x = residual_block(x, filters=512, strides=2, downsample=True)\n",
    "    x = residual_block(x, filters=512)\n",
    "\n",
    "    # Global Average Pooling\n",
    "    x = tf.reduce_mean(x, axis=[1, 2])\n",
    "    \n",
    "    # Fully Connected Layer\n",
    "    x = Flatten()(x)\n",
    "    x = Dense(units=num_classes, activation='softmax')(x)\n",
    "\n",
    "    model = Model(inputs=input_layer, outputs=x)\n",
    "    return model\n",
    "\n",
    "# Define input shape\n",
    "input_shape = (200, 200, 1)\n",
    "num_classes = 3  # Assuming you have 3 classes\n",
    "\n",
    "# Build the model\n",
    "resnet_model = build_resnet(input_shape, num_classes)\n",
    "\n",
    "# Compile the model\n",
    "resnet_model.compile(optimizer='adam', loss='categorical_crossentropy', metrics=['accuracy'])\n",
    "\n",
    "# Train the model\n",
    "history = resnet_model.fit(X_train, Y_train, batch_size=32, epochs=10, validation_data=(X_test, Y_test))\n"
   ]
  },
  {
   "cell_type": "code",
   "execution_count": 8,
   "metadata": {},
   "outputs": [
    {
     "name": "stdout",
     "output_type": "stream",
     "text": [
      "2/2 [==============================] - 3s 282ms/step\n"
     ]
    }
   ],
   "source": [
    "predictions = resnet_model.predict(X_test)"
   ]
  },
  {
   "cell_type": "code",
   "execution_count": 9,
   "metadata": {},
   "outputs": [
    {
     "name": "stdout",
     "output_type": "stream",
     "text": [
      "2/2 [==============================] - 3s 666ms/step - loss: 1.3327 - accuracy: 0.5625\n",
      "Accuracy :56.25%\n",
      "Loss :1.33%\n"
     ]
    }
   ],
   "source": [
    "(eval_loss,eval_accuracy)=resnet_model.evaluate(X_test,Y_test,batch_size=32,verbose=1)\n",
    "print(\"Accuracy :{:.2f}%\".format(eval_accuracy*100))\n",
    "print(\"Loss :{:.2f}%\".format(eval_loss))"
   ]
  }
 ],
 "metadata": {
  "kernelspec": {
   "display_name": "Python 3",
   "language": "python",
   "name": "python3"
  },
  "language_info": {
   "codemirror_mode": {
    "name": "ipython",
    "version": 3
   },
   "file_extension": ".py",
   "mimetype": "text/x-python",
   "name": "python",
   "nbconvert_exporter": "python",
   "pygments_lexer": "ipython3",
   "version": "3.11.7"
  }
 },
 "nbformat": 4,
 "nbformat_minor": 2
}
